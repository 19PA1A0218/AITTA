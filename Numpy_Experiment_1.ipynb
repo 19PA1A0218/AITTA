{
  "nbformat": 4,
  "nbformat_minor": 0,
  "metadata": {
    "colab": {
      "name": "Numpy Experiment 1",
      "provenance": [],
      "collapsed_sections": []
    },
    "kernelspec": {
      "name": "python3",
      "display_name": "Python 3"
    }
  },
  "cells": [
    {
      "cell_type": "markdown",
      "metadata": {
        "id": "L053IOmrrRFq",
        "colab_type": "text"
      },
      "source": [
        "D.Suresh Roshi , 19PA1A0218 , EEE-A , II-I , AITTA"
      ]
    },
    {
      "cell_type": "markdown",
      "metadata": {
        "id": "2XvlaTBTZQVI",
        "colab_type": "text"
      },
      "source": [
        "# Experiment No 1: Numpy"
      ]
    },
    {
      "cell_type": "markdown",
      "metadata": {
        "id": "Pjyv9Forjyyj",
        "colab_type": "text"
      },
      "source": [
        "## 1.Different ways to create Numpy arrays."
      ]
    },
    {
      "cell_type": "code",
      "metadata": {
        "id": "uG6u80QYHF7m",
        "colab_type": "code",
        "colab": {
          "base_uri": "https://localhost:8080/",
          "height": 34
        },
        "outputId": "e862984a-b4d2-4866-a2cb-202f75fdf8d6"
      },
      "source": [
        "import numpy as np\n",
        " \n",
        "a = np.array([11,22,33,44,55])\n",
        "print(a)"
      ],
      "execution_count": 2,
      "outputs": [
        {
          "output_type": "stream",
          "text": [
            "[11 22 33 44 55]\n"
          ],
          "name": "stdout"
        }
      ]
    },
    {
      "cell_type": "code",
      "metadata": {
        "id": "AuDeSAckkHxA",
        "colab_type": "code",
        "colab": {
          "base_uri": "https://localhost:8080/",
          "height": 50
        },
        "outputId": "3842623e-f62f-40d8-995f-4fc60c6346da"
      },
      "source": [
        "a = np.array([[11,22,33],[44,55,66]])\n",
        "print(a)"
      ],
      "execution_count": 3,
      "outputs": [
        {
          "output_type": "stream",
          "text": [
            "[[11 22 33]\n",
            " [44 55 66]]\n"
          ],
          "name": "stdout"
        }
      ]
    },
    {
      "cell_type": "markdown",
      "metadata": {
        "id": "ZAFt4i0NkZ_N",
        "colab_type": "text"
      },
      "source": [
        "## 2.Add,remove,modify elements in an array."
      ]
    },
    {
      "cell_type": "code",
      "metadata": {
        "id": "sS13IFKQkiDU",
        "colab_type": "code",
        "colab": {
          "base_uri": "https://localhost:8080/",
          "height": 50
        },
        "outputId": "1fbee002-146a-46ef-cbe0-47524eb0ea04"
      },
      "source": [
        "a = np.arange(20)\n",
        "b = np.append([21,22],a)\n",
        "print(b)\n",
        "b = np.append(a,[22,23])\n",
        "print(b)"
      ],
      "execution_count": 4,
      "outputs": [
        {
          "output_type": "stream",
          "text": [
            "[21 22  0  1  2  3  4  5  6  7  8  9 10 11 12 13 14 15 16 17 18 19]\n",
            "[ 0  1  2  3  4  5  6  7  8  9 10 11 12 13 14 15 16 17 18 19 22 23]\n"
          ],
          "name": "stdout"
        }
      ]
    },
    {
      "cell_type": "code",
      "metadata": {
        "id": "sGIjAfoNk5Gv",
        "colab_type": "code",
        "colab": {
          "base_uri": "https://localhost:8080/",
          "height": 34
        },
        "outputId": "9120df73-41b7-40c0-f711-a084caa41a4b"
      },
      "source": [
        "c = np.delete(a,[0])\n",
        "print(c)"
      ],
      "execution_count": 5,
      "outputs": [
        {
          "output_type": "stream",
          "text": [
            "[ 1  2  3  4  5  6  7  8  9 10 11 12 13 14 15 16 17 18 19]\n"
          ],
          "name": "stdout"
        }
      ]
    },
    {
      "cell_type": "code",
      "metadata": {
        "id": "JV_Uv0ZilbA8",
        "colab_type": "code",
        "colab": {
          "base_uri": "https://localhost:8080/",
          "height": 34
        },
        "outputId": "0155606e-6c87-4336-8fc6-b2cdee9cbe56"
      },
      "source": [
        "d = np.array([11,22,33,44,55,66,77])\n",
        "d[d<22]=-22\n",
        "print(d)\n"
      ],
      "execution_count": 6,
      "outputs": [
        {
          "output_type": "stream",
          "text": [
            "[-22  22  33  44  55  66  77]\n"
          ],
          "name": "stdout"
        }
      ]
    },
    {
      "cell_type": "markdown",
      "metadata": {
        "id": "GGQhfLgZmVjr",
        "colab_type": "text"
      },
      "source": [
        "## 3.Arthematic operations on Numpy array."
      ]
    },
    {
      "cell_type": "code",
      "metadata": {
        "id": "FCNaYz9amUdc",
        "colab_type": "code",
        "colab": {
          "base_uri": "https://localhost:8080/",
          "height": 218
        },
        "outputId": "ac3bb826-f3e6-4a25-b8e1-6f43f78a0d63"
      },
      "source": [
        "import numpy as np\n",
        "\n",
        "e = np.array([[1,3,5],[7,9,11]])\n",
        "f = np.array([[10,2,4],[6,8,10]])\n",
        "\n",
        "print(np.add(e,f))\n",
        "print(np.subtract(e,f))\n",
        "print(np.multiply(e,f))\n",
        "print(np.divide(e,f))\n",
        "print(np.mod(e,f))\n",
        "print(np.power(e,f))\n"
      ],
      "execution_count": 7,
      "outputs": [
        {
          "output_type": "stream",
          "text": [
            "[[11  5  9]\n",
            " [13 17 21]]\n",
            "[[-9  1  1]\n",
            " [ 1  1  1]]\n",
            "[[ 10   6  20]\n",
            " [ 42  72 110]]\n",
            "[[0.1        1.5        1.25      ]\n",
            " [1.16666667 1.125      1.1       ]]\n",
            "[[1 1 1]\n",
            " [1 1 1]]\n",
            "[[          1           9         625]\n",
            " [     117649    43046721 25937424601]]\n"
          ],
          "name": "stdout"
        }
      ]
    },
    {
      "cell_type": "markdown",
      "metadata": {
        "id": "ihi-lBW7oC_6",
        "colab_type": "text"
      },
      "source": [
        "## 4.Slicing and iterating of numpy arrays."
      ]
    },
    {
      "cell_type": "markdown",
      "metadata": {
        "id": "aaCwVHZVoJnS",
        "colab_type": "text"
      },
      "source": [
        "### i) Slicing."
      ]
    },
    {
      "cell_type": "code",
      "metadata": {
        "id": "IyieEPGLoIDg",
        "colab_type": "code",
        "colab": {
          "base_uri": "https://localhost:8080/",
          "height": 84
        },
        "outputId": "617b813e-a1f9-456f-d118-57fa9832c679"
      },
      "source": [
        "import numpy as np\n",
        "g = np.array([11,12,13,14,15,16,17,18,19])\n",
        "print(g[2])\n",
        "print(g[:5])\n",
        "print(g[2:5])\n",
        "print(g[2:-2])\n",
        "\n",
        "\n"
      ],
      "execution_count": 8,
      "outputs": [
        {
          "output_type": "stream",
          "text": [
            "13\n",
            "[11 12 13 14 15]\n",
            "[13 14 15]\n",
            "[13 14 15 16 17]\n"
          ],
          "name": "stdout"
        }
      ]
    },
    {
      "cell_type": "markdown",
      "metadata": {
        "id": "nU5dSAjgokyg",
        "colab_type": "text"
      },
      "source": [
        "### ii)Iterating.\n"
      ]
    },
    {
      "cell_type": "code",
      "metadata": {
        "id": "q_tTbU0toi2g",
        "colab_type": "code",
        "colab": {
          "base_uri": "https://localhost:8080/",
          "height": 84
        },
        "outputId": "a3978d73-9f96-4783-b410-e25c60ba9842"
      },
      "source": [
        "\n",
        "\n",
        "h = np.arange(9).reshape(3,3)**3\n",
        "print(h)\n",
        "for i in h:\n",
        "  print(i , end=\" \")"
      ],
      "execution_count": 9,
      "outputs": [
        {
          "output_type": "stream",
          "text": [
            "[[  0   1   8]\n",
            " [ 27  64 125]\n",
            " [216 343 512]]\n",
            "[0 1 8] [ 27  64 125] [216 343 512] "
          ],
          "name": "stdout"
        }
      ]
    },
    {
      "cell_type": "markdown",
      "metadata": {
        "id": "XGGomrWWoumh",
        "colab_type": "text"
      },
      "source": [
        "## 5.Matrix operations on numpy arrays."
      ]
    },
    {
      "cell_type": "code",
      "metadata": {
        "id": "KM7PKl55oznk",
        "colab_type": "code",
        "colab": {
          "base_uri": "https://localhost:8080/",
          "height": 218
        },
        "outputId": "41aa6371-8313-46d6-a6bd-e0c6f0c8028a"
      },
      "source": [
        "import numpy as np\n",
        "\n",
        "i = np.array([[11,12,13],[14,15,16]])\n",
        "j = np.array([[17,18,19],[11,12,13]])\n",
        "\n",
        "print(np.add(i,j))\n",
        "print(np.subtract(i,j))\n",
        "print(np.multiply(i,j))\n",
        "print(np.divide(i,j))\n",
        "print(np.floor(i))\n",
        "print(np.floor(j))"
      ],
      "execution_count": 10,
      "outputs": [
        {
          "output_type": "stream",
          "text": [
            "[[28 30 32]\n",
            " [25 27 29]]\n",
            "[[-6 -6 -6]\n",
            " [ 3  3  3]]\n",
            "[[187 216 247]\n",
            " [154 180 208]]\n",
            "[[0.64705882 0.66666667 0.68421053]\n",
            " [1.27272727 1.25       1.23076923]]\n",
            "[[11. 12. 13.]\n",
            " [14. 15. 16.]]\n",
            "[[17. 18. 19.]\n",
            " [11. 12. 13.]]\n"
          ],
          "name": "stdout"
        }
      ]
    }
  ]
}